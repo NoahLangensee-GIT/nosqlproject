{
 "cells": [
  {
   "metadata": {},
   "cell_type": "markdown",
   "source": "**Aufgabe 1.1**",
   "id": "f04609fec5a3c50"
  },
  {
   "metadata": {},
   "cell_type": "markdown",
   "source": [
    "**Object Data Model**\n",
    "\n",
    "Ein Object Data Model ist wie ein Plan, der festlegt, wie Informationen als Objekte strukturiert sind, welche Eigenschaften diese Objekte haben und wie sie miteinander verbunden sind. Es hilft dabei, komplexe Daten so zu organisieren, dass sie gut zu objektorientierten Programmiersprachen passen.\n",
    "\n",
    "Anstatt Daten in traditionellen Tabellen mit Zeilen und Spalten zu speichern (wie bei relationalen Datenbanken), versuchen Objekt-Datenmodelle, die Daten so zu speichern, wie sie in der objektorientierten Programmierung verwendet werden."
   ],
   "id": "d1930d6c8f5c0a2b"
  }
 ],
 "metadata": {
  "kernelspec": {
   "display_name": "Python 3",
   "language": "python",
   "name": "python3"
  },
  "language_info": {
   "codemirror_mode": {
    "name": "ipython",
    "version": 2
   },
   "file_extension": ".py",
   "mimetype": "text/x-python",
   "name": "python",
   "nbconvert_exporter": "python",
   "pygments_lexer": "ipython2",
   "version": "2.7.6"
  }
 },
 "nbformat": 4,
 "nbformat_minor": 5
}
